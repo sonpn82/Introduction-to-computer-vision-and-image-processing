{
 "cells": [
  {
   "cell_type": "markdown",
   "metadata": {},
   "source": [
    "# IBM Developer Skills Network"
   ]
  },
  {
   "cell_type": "markdown",
   "metadata": {},
   "source": [
    "# Neural Network Rectified Linear Unit (ReLU) vs Sigmoid"
   ]
  },
  {
   "cell_type": "code",
   "execution_count": 1,
   "metadata": {},
   "outputs": [
    {
     "data": {
      "text/plain": [
       "<torch._C.Generator at 0x60559d0>"
      ]
     },
     "execution_count": 1,
     "metadata": {},
     "output_type": "execute_result"
    }
   ],
   "source": [
    "import torch\r\n",
    "import torch.nn as nn\r\n",
    "import torchvision.transforms as transforms  # to transform tensor\r\n",
    "import torchvision.datasets as dsets  # to load dataset\r\n",
    "import torch.nn.functional as F  # for activation function\r\n",
    "\r\n",
    "import matplotlib.pyplot as plt\r\n",
    "import numpy as np\r\n",
    "\r\n",
    "torch.manual_seed(2)"
   ]
  },
  {
   "cell_type": "markdown",
   "metadata": {},
   "source": [
    "# Neural Network Module and Training Function"
   ]
  },
  {
   "cell_type": "code",
   "execution_count": 2,
   "metadata": {},
   "outputs": [],
   "source": [
    "# Create the model class using Sigmoid as the activation function\r\n",
    "\r\n",
    "class Net(nn.Module):\r\n",
    "    \r\n",
    "    # Constructor\r\n",
    "    def __init__(self, D_in, H1, H2, D_out):\r\n",
    "        # D_in is the input size of the first layer (size of input layer)\r\n",
    "        # H1 is the output size of the first layer and input size of the second layer (size of first hidden layer)\r\n",
    "        # H2 is the outpout size of the second layer and the input size of the third layer (size of second hidden layer)\r\n",
    "        # D_out is the output size of the third layer (size of output layer)\r\n",
    "        super(Net, self).__init__()\r\n",
    "        self.linear1 = nn.Linear(D_in, H1)\r\n",
    "        self.linear2 = nn.Linear(H1, H2)\r\n",
    "        self.linear3 = nn.Linear(H2, D_out)\r\n",
    "    \r\n",
    "    # Prediction\r\n",
    "    def forward(self,x):\r\n",
    "        # Puts x through the first layers then the sigmoid function\r\n",
    "        x = torch.sigmoid(self.linear1(x)) \r\n",
    "        # Puts results of previous line through second layer then sigmoid function\r\n",
    "        x = torch.sigmoid(self.linear2(x))\r\n",
    "        # Puts result of previous line through third layer\r\n",
    "        x = self.linear3(x)\r\n",
    "        return x"
   ]
  },
  {
   "cell_type": "code",
   "execution_count": 3,
   "metadata": {},
   "outputs": [],
   "source": [
    "# Create the model class using Relu as the activation function\r\n",
    "\r\n",
    "class NetRelu(nn.Module):\r\n",
    "    \r\n",
    "    # Constructor\r\n",
    "    def __init__(self, D_in, H1, H2, D_out):\r\n",
    "        # D_in is the input size of the first layer (size of input layer)\r\n",
    "        # H1 is the output size of the first layer and input size of the second layer (size of first hidden layer)\r\n",
    "        # H2 is the outpout size of the second layer and the input size of the third layer (size of second hidden layer)\r\n",
    "        # D_out is the output size of the third layer (size of output layer)\r\n",
    "        super(NetRelu, self).__init__()\r\n",
    "        self.linear1 = nn.Linear(D_in, H1)\r\n",
    "        self.linear2 = nn.Linear(H1, H2)\r\n",
    "        self.linear3 = nn.Linear(H2, D_out)\r\n",
    "    \r\n",
    "    # Prediction\r\n",
    "    def forward(self, x):\r\n",
    "        # Puts x through the first layers then the relu function\r\n",
    "        x = torch.relu(self.linear1(x))  \r\n",
    "        # Puts results of previous line through second layer then relu function\r\n",
    "        x = torch.relu(self.linear2(x))\r\n",
    "        # Puts result of previous line through third layer\r\n",
    "        x = self.linear3(x)\r\n",
    "        return x"
   ]
  },
  {
   "cell_type": "code",
   "execution_count": 4,
   "metadata": {},
   "outputs": [],
   "source": [
    "# Model training function\r\n",
    "\r\n",
    "def train(model, criterion, train_loader, validation_loader, optimizer, epochs=100):\r\n",
    "    i = 0\r\n",
    "    useful_stuff = {'training_loss': [], 'validation_accuracy': []}  \r\n",
    "    # Number of times we train on the entire training dataset\r\n",
    "    for epoch in range(epochs):\r\n",
    "        # For each batch in the train loader\r\n",
    "        for i, (x, y) in enumerate(train_loader):\r\n",
    "            # Resets the calculated gradient value, this must be done each time as it accumulates if we do not reset\r\n",
    "            optimizer.zero_grad()\r\n",
    "            # Makes a prediction on the image tensor by flattening it to a 1 by 28*28 tensor\r\n",
    "            z = model(x.view(-1, 28 * 28))\r\n",
    "            # Calculate the loss between the prediction and actual class\r\n",
    "            loss = criterion(z, y)\r\n",
    "            # Calculates the gradient value with respect to each weight and bias\r\n",
    "            loss.backward()\r\n",
    "            # Updates the weight and bias according to calculated gradient value\r\n",
    "            optimizer.step()\r\n",
    "            # Saves the loss\r\n",
    "            useful_stuff['training_loss'].append(loss.data.item())\r\n",
    "        \r\n",
    "        # Counter to keep track of correct predictions\r\n",
    "        correct = 0\r\n",
    "        # For each batch in the validation dataset\r\n",
    "        for x, y in validation_loader:\r\n",
    "            # Make a prediction\r\n",
    "            z = model(x.view(-1, 28 * 28))\r\n",
    "            # Get the class that has the maximum value\r\n",
    "            _, label = torch.max(z, 1)\r\n",
    "            # Check if our prediction matches the actual class\r\n",
    "            correct += (label == y).sum().item()\r\n",
    "    \r\n",
    "        # Saves the percent accuracy\r\n",
    "        accuracy = 100 * (correct / len(validation_dataset))\r\n",
    "        useful_stuff['validation_accuracy'].append(accuracy)\r\n",
    "    \r\n",
    "    return useful_stuff"
   ]
  },
  {
   "cell_type": "markdown",
   "metadata": {},
   "source": [
    "# Make some data"
   ]
  },
  {
   "cell_type": "code",
   "execution_count": 5,
   "metadata": {},
   "outputs": [],
   "source": [
    "# Create the training dataset\r\n",
    "\r\n",
    "train_dataset = dsets.MNIST(root='./data', train=True, download=True, transform=transforms.ToTensor())"
   ]
  },
  {
   "cell_type": "code",
   "execution_count": 6,
   "metadata": {},
   "outputs": [],
   "source": [
    "# Create the validating dataset\r\n",
    "\r\n",
    "validation_dataset = dsets.MNIST(root='./data', train=False, download=True, transform=transforms.ToTensor())"
   ]
  },
  {
   "cell_type": "code",
   "execution_count": 7,
   "metadata": {},
   "outputs": [],
   "source": [
    "# Create the criterion\r\n",
    "\r\n",
    "criterion = nn.CrossEntropyLoss()"
   ]
  },
  {
   "cell_type": "code",
   "execution_count": 8,
   "metadata": {},
   "outputs": [],
   "source": [
    "# Create the training-data loader and the validation-data loader\r\n",
    "\r\n",
    "# Batch size is 2000 and shuffle=True means the data will be shuffled at every epoch\r\n",
    "train_loader = torch.utils.data.DataLoader(dataset=train_dataset, batch_size=2000, shuffle=True)\r\n",
    "# Batch size is 5000 and the data will not be shuffled at every epoch\r\n",
    "validation_loader = torch.utils.data.DataLoader(dataset=validation_dataset, batch_size=5000, shuffle=False)"
   ]
  },
  {
   "cell_type": "markdown",
   "metadata": {},
   "source": [
    "# Define the Neural Network, Criterion function, Optimizer and Train the Model"
   ]
  },
  {
   "cell_type": "code",
   "execution_count": 9,
   "metadata": {},
   "outputs": [],
   "source": [
    "# Create the model with 100 hidden neurons\r\n",
    "input_dim = 28 * 28  # dim of an image\r\n",
    "hidden_dim1 = 50\r\n",
    "hidden_dim2 = 50\r\n",
    "output_dim = 10  # number of class (0->9 number)"
   ]
  },
  {
   "cell_type": "code",
   "execution_count": 10,
   "metadata": {},
   "outputs": [],
   "source": [
    "cust_epochs = 35"
   ]
  },
  {
   "cell_type": "markdown",
   "metadata": {},
   "source": [
    "# Test Sigmoid and ReLU"
   ]
  },
  {
   "cell_type": "code",
   "execution_count": 11,
   "metadata": {},
   "outputs": [],
   "source": [
    "# Train the model with Sigmoid function\r\n",
    "\r\n",
    "learning_rate = 0.01\r\n",
    "\r\n",
    "# Create an instance of the Net model\r\n",
    "model = Net(input_dim, hidden_dim1, hidden_dim2, output_dim)\r\n",
    "\r\n",
    "# Create an optimizer\r\n",
    "optimizer = torch.optim.SGD(model.parameters(), lr=learning_rate)\r\n",
    "\r\n",
    "# Train the model\r\n",
    "training_results = train(model, criterion, train_loader, validation_loader, optimizer, epochs=cust_epochs)"
   ]
  },
  {
   "cell_type": "code",
   "execution_count": 13,
   "metadata": {},
   "outputs": [],
   "source": [
    "# Train the model with ReLU function\r\n",
    "learning_rate = 0.01\r\n",
    "\r\n",
    "# model\r\n",
    "modelRelu = NetRelu(input_dim, hidden_dim1, hidden_dim2, output_dim)\r\n",
    "\r\n",
    "# optimizer\r\n",
    "optimizer = torch.optim.SGD(modelRelu.parameters(), lr=learning_rate)\r\n",
    "\r\n",
    "# Train the model\r\n",
    "training_results_relu = train(modelRelu, criterion, train_loader, validation_loader, optimizer, epochs=cust_epochs)"
   ]
  },
  {
   "cell_type": "markdown",
   "metadata": {},
   "source": [
    "# Analyze the result"
   ]
  },
  {
   "cell_type": "code",
   "execution_count": 14,
   "metadata": {},
   "outputs": [
    {
     "data": {
      "text/plain": [
       "<matplotlib.legend.Legend at 0x3c8e54c0>"
      ]
     },
     "execution_count": 14,
     "metadata": {},
     "output_type": "execute_result"
    },
    {
     "data": {
      "image/png": "[encoded data removed]",
      "text/plain": [
       "<Figure size 432x288 with 1 Axes>"
      ]
     },
     "metadata": {
      "needs_background": "light"
     },
     "output_type": "display_data"
    }
   ],
   "source": [
    "# Compare the training loss\r\n",
    "\r\n",
    "plt.plot(training_results['training_loss'], label='sigmoid')\r\n",
    "plt.plot(training_results_relu['training_loss'], label='relu')\r\n",
    "plt.ylabel('loss')\r\n",
    "plt.title('training loss iterations')\r\n",
    "plt.legend()"
   ]
  },
  {
   "cell_type": "code",
   "execution_count": 15,
   "metadata": {},
   "outputs": [
    {
     "data": {
      "text/plain": [
       "<matplotlib.legend.Legend at 0x3d027730>"
      ]
     },
     "execution_count": 15,
     "metadata": {},
     "output_type": "execute_result"
    },
    {
     "data": {
      "image/png": "[encoded data removed]",
      "text/plain": [
       "<Figure size 432x288 with 1 Axes>"
      ]
     },
     "metadata": {
      "needs_background": "light"
     },
     "output_type": "display_data"
    }
   ],
   "source": [
    "# Compare the validation accuracy\r\n",
    "\r\n",
    "plt.plot(training_results['validation_accuracy'], label = 'sigmoid')\r\n",
    "plt.plot(training_results_relu['validation_accuracy'], label = 'relu') \r\n",
    "plt.ylabel('validation accuracy')\r\n",
    "plt.xlabel('Iteration')   \r\n",
    "plt.legend()"
   ]
  },
  {
   "cell_type": "markdown",
   "metadata": {},
   "source": [
    "ReLU is really much better than sigmoid in this case!"
   ]
  }
 ],
 "metadata": {
  "interpreter": {
   "hash": "c0f70214c0dd213f07f54ee5d6e0ea644bdbba35113c9bfe8aaa0d1db03ad5dd"
  },
  "kernelspec": {
   "display_name": "Python 3.8.8 64-bit ('base': conda)",
   "name": "python3"
  },
  "language_info": {
   "codemirror_mode": {
    "name": "ipython",
    "version": 3
   },
   "file_extension": ".py",
   "mimetype": "text/x-python",
   "name": "python",
   "nbconvert_exporter": "python",
   "pygments_lexer": "ipython3",
   "version": "3.8.8"
  },
  "orig_nbformat": 4
 },
 "nbformat": 4,
 "nbformat_minor": 2
}