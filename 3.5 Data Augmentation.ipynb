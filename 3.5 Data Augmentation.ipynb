{
 "cells": [
  {
   "cell_type": "markdown",
   "metadata": {},
   "source": [
    "# IBM Developer Skills Network"
   ]
  },
  {
   "cell_type": "markdown",
   "metadata": {},
   "source": [
    "# Data Augmentation"
   ]
  },
  {
   "cell_type": "markdown",
   "metadata": {},
   "source": [
    "In this lab, we train a Convolutional Neural Network with Regular data and Augmented data. The purpose of this lab is to show that the Augmented data improves generalization performance.\r\n",
    "\r\n",
    "Think of a scenario where a drone has to take a picture of an object. The drone is moving and the object can also possibly be moving. When an image is taken we arent always going to get perfect images. The subject may not be perfectly centered in the image or the subject may be rotated in the image. In this case, a model trained on perfectly centered or rotated images won't perform well. This is why we train a model on rotated data so it can perform well on imperfect images.\r\n",
    "\r\n",
    "In this assignment, we will use a dataset of digit images. We will have two models one trained on non rotated digits and one trained on rotated images and then we will test the models on a rotated testing dataset which will be more realistic and robust in terms of our scenario above."
   ]
  },
  {
   "cell_type": "code",
   "execution_count": 1,
   "metadata": {},
   "outputs": [],
   "source": [
    "# Pretrain model link\r\n",
    "# 'https://github.com/sonpn82/Introduction-to-computer-vision-and-image-processing/blob/master/normal.pt?raw=true'"
   ]
  },
  {
   "cell_type": "code",
   "execution_count": 2,
   "metadata": {},
   "outputs": [],
   "source": [
    "# Pretrain rotated model link\r\n",
    "# 'https://github.com/sonpn82/Introduction-to-computer-vision-and-image-processing/blob/master/rotated_data.pt?raw=true'"
   ]
  },
  {
   "cell_type": "code",
   "execution_count": 3,
   "metadata": {},
   "outputs": [],
   "source": [
    "import torch\r\n",
    "import torch.nn as nn\r\n",
    "import torchvision.transforms as transforms  # to transform data\r\n",
    "import torchvision.datasets as dsets\r\n",
    "\r\n",
    "import matplotlib.pylab as plt\r\n",
    "import numpy as np\r\n",
    "import os  # to access file system"
   ]
  },
  {
   "cell_type": "code",
   "execution_count": 4,
   "metadata": {},
   "outputs": [],
   "source": [
    "# Plot cost and accuracy vs epoch\r\n",
    "def plot_cost_accuracy(checkpoint):\r\n",
    "\r\n",
    "# Plot the cost and accuracy\r\n",
    "\r\n",
    "    fig, ax1 = plt.subplots()\r\n",
    "    color = 'tab:red'\r\n",
    "    ax1.plot(checkpoint['cost'], color=color)\r\n",
    "    ax1.set_xlabel('epoch', color=color)\r\n",
    "    ax1.set_ylabel('Cost', color=color)\r\n",
    "    ax1.tick_params(axis='y', color=color)\r\n",
    "    \r\n",
    "    ax2 = ax1.twinx()  \r\n",
    "    color = 'tab:blue'\r\n",
    "    ax2.set_ylabel('accuracy', color=color) \r\n",
    "    ax2.set_xlabel('epoch', color=color)\r\n",
    "    ax2.plot( checkpoint['accuracy'], color=color)\r\n",
    "    ax2.tick_params(axis='y', color=color)\r\n",
    "    fig.tight_layout()"
   ]
  },
  {
   "cell_type": "code",
   "execution_count": 5,
   "metadata": {},
   "outputs": [],
   "source": [
    "# function to plot out data samples as images\r\n",
    "def show_data(data_sample):\r\n",
    "    plt.imshow(data_sample[0].numpy().reshape(IMAGE_SIZE, IMAGE_SIZE), cmap='gray')\r\n",
    "    plt.title('y = '+ str(data_sample[1]))"
   ]
  },
  {
   "cell_type": "code",
   "execution_count": 6,
   "metadata": {},
   "outputs": [],
   "source": [
    "# Plot the 5 mis_classified samples\r\n",
    "def plot_mis_classified(model, dataset):\r\n",
    "    count=0\r\n",
    "    for x, y in torch.utils.data.DataLoader(dataset=dataset, batch_size=1):\r\n",
    "        z = model(x)\r\n",
    "        _, yhat = torch.max(z, 1)\r\n",
    "        if yhat != y:\r\n",
    "            show_data((x, y))\r\n",
    "            plt.show()\r\n",
    "            count += 1\r\n",
    "        if count >= 5:\r\n",
    "            break "
   ]
  },
  {
   "cell_type": "markdown",
   "metadata": {},
   "source": [
    "# Load Data"
   ]
  },
  {
   "cell_type": "markdown",
   "metadata": {},
   "source": [
    "We create a transform object compose one will resize the image and convert it to a tensor, the second will also rotate the image Randomly rotate the image."
   ]
  },
  {
   "cell_type": "code",
   "execution_count": 7,
   "metadata": {},
   "outputs": [],
   "source": [
    "IMAGE_SIZE = 16\r\n",
    "\r\n",
    "# Creating a group of transformations to created a rotated dataset\r\n",
    "# Resizes the images, randomly rotates it, and then converts it to a tensor\r\n",
    "compose_rotate = transforms.Compose([transforms.Resize((IMAGE_SIZE, IMAGE_SIZE)),transforms.RandomAffine(45), transforms.ToTensor()])\r\n",
    "\r\n",
    "# Creating a group of transformations to created a non rotated dataset\r\n",
    "# Resizes the images then converts it to a tensor\r\n",
    "compose = transforms.Compose([transforms.Resize((IMAGE_SIZE, IMAGE_SIZE)), transforms.ToTensor()])"
   ]
  },
  {
   "cell_type": "code",
   "execution_count": 8,
   "metadata": {},
   "outputs": [],
   "source": [
    "# The transform parameters is set to the corresponding compose\r\n",
    "train_dataset_rotate = dsets.MNIST(root='./data', train=True, download=True, transform=compose_rotate)\r\n",
    "train_dataset = dsets.MNIST(root='./data', train=True, download=True, transform=compose)"
   ]
  },
  {
   "cell_type": "code",
   "execution_count": 9,
   "metadata": {},
   "outputs": [],
   "source": [
    "# Load the testing dataset\r\n",
    "validation_dataset = dsets.MNIST(root='./data', train=False, download=True, transform=compose_rotate)"
   ]
  },
  {
   "cell_type": "code",
   "execution_count": 10,
   "metadata": {},
   "outputs": [
    {
     "data": {
      "image/png": "[encoded data removed]",
      "text/plain": [
       "<Figure size 432x288 with 1 Axes>"
      ]
     },
     "metadata": {
      "needs_background": "light"
     },
     "output_type": "display_data"
    }
   ],
   "source": [
    "# Plot the 1st sample\r\n",
    "show_data(train_dataset[0])"
   ]
  },
  {
   "cell_type": "code",
   "execution_count": 11,
   "metadata": {},
   "outputs": [
    {
     "data": {
      "text/plain": [
       "5"
      ]
     },
     "execution_count": 11,
     "metadata": {},
     "output_type": "execute_result"
    }
   ],
   "source": [
    "# Label for the 1st data element\r\n",
    "train_dataset[0][1]"
   ]
  },
  {
   "cell_type": "code",
   "execution_count": 12,
   "metadata": {},
   "outputs": [
    {
     "data": {
      "image/png": "[encoded data removed]",
      "text/plain": [
       "<Figure size 432x288 with 1 Axes>"
      ]
     },
     "metadata": {
      "needs_background": "light"
     },
     "output_type": "display_data"
    }
   ],
   "source": [
    "# Plot the 1st sample of the rotated dataset\r\n",
    "show_data(train_dataset_rotate[0])"
   ]
  },
  {
   "cell_type": "markdown",
   "metadata": {},
   "source": [
    "# Build a Convolutional Neural Network Class"
   ]
  },
  {
   "cell_type": "markdown",
   "metadata": {},
   "source": [
    "Build a Convolutional Network class with two Convolutional layers and one fully connected layer. Pre-determine the size of the final output matrix. The parameters in the constructor are the number of output channels for the first and second layers."
   ]
  },
  {
   "cell_type": "code",
   "execution_count": 13,
   "metadata": {},
   "outputs": [],
   "source": [
    "class CNN(nn.Module):\r\n",
    "    \r\n",
    "    # Contructor\r\n",
    "    def __init__(self, out_1=16, out_2=32):\r\n",
    "        super(CNN, self).__init__()\r\n",
    "        \r\n",
    "        # The reason we start with 1 channel is because we have a single black and white image\r\n",
    "        # Channel Width after this layer is 16\r\n",
    "        self.cnn1 = nn.Conv2d(in_channels=1, out_channels=out_1, kernel_size=5, padding=2)\r\n",
    "        # Channel Wifth after this layer is 8\r\n",
    "        self.maxpool1=nn.MaxPool2d(kernel_size=2)\r\n",
    "        \r\n",
    "        # Channel Width after this layer is 8\r\n",
    "        self.cnn2 = nn.Conv2d(in_channels=out_1, out_channels=out_2, kernel_size=5, stride=1, padding=2)\r\n",
    "        # Channel Width after this layer is 4\r\n",
    "        self.maxpool2=nn.MaxPool2d(kernel_size=2)\r\n",
    "        # In total we have out_2 (32) channels which are each 4 * 4 in size based on the width calculation above. Channels are squares.\r\n",
    "        # The output is a value for each class\r\n",
    "        self.fc1 = nn.Linear(out_2 * 4 * 4, 10)\r\n",
    "    \r\n",
    "    # Prediction\r\n",
    "    def forward(self, x):\r\n",
    "        # Puts the X value through each cnn, relu, and pooling layer and it is flattened for input into the fully connected layer\r\n",
    "        x = self.cnn1(x)\r\n",
    "        x = torch.relu(x)\r\n",
    "        x = self.maxpool1(x)\r\n",
    "        x = self.cnn2(x)\r\n",
    "        x = torch.relu(x)\r\n",
    "        x = self.maxpool2(x)\r\n",
    "        x = x.view(x.size(0), -1)\r\n",
    "        x = self.fc1(x)\r\n",
    "        return x\r\n",
    "\r\n",
    "    # Outputs result of each stage of the CNN, relu, and pooling layers\r\n",
    "    def activations(self, x):\r\n",
    "        # Outputs activation this is not necessary\r\n",
    "        z1 = self.cnn1(x)\r\n",
    "        a1 = torch.relu(z1)\r\n",
    "        out = self.maxpool1(a1)\r\n",
    "        \r\n",
    "        z2 = self.cnn2(out)\r\n",
    "        a2 = torch.relu(z2)\r\n",
    "        out1 = self.maxpool2(a2)\r\n",
    "        out = out.view(out.size(0),-1)\r\n",
    "        return z1, a1, z2, a2, out1,out"
   ]
  },
  {
   "cell_type": "markdown",
   "metadata": {},
   "source": [
    "# Regular Data"
   ]
  },
  {
   "cell_type": "code",
   "execution_count": 14,
   "metadata": {},
   "outputs": [],
   "source": [
    "# Create the model object to be trained on regular data using CNN\r\n",
    "model = CNN(out_1=16, out_2=32)"
   ]
  },
  {
   "cell_type": "code",
   "execution_count": 15,
   "metadata": {},
   "outputs": [],
   "source": [
    "# Define the criterion\r\n",
    "criterion = nn.CrossEntropyLoss()\r\n",
    "\r\n",
    "# Learning rate\r\n",
    "learning_rate = 0.1\r\n",
    "\r\n",
    "# Optimizer\r\n",
    "optimizer = torch.optim.SGD(model.parameters(), lr = learning_rate)\r\n",
    "\r\n",
    "# Data loader\r\n",
    "train_loader = torch.utils.data.DataLoader(dataset=train_dataset, batch_size=100)\r\n",
    "\r\n",
    "# Data loader for rotated validation data\r\n",
    "validation_loader = torch.utils.data.DataLoader(dataset=validation_dataset, batch_size=5000)\r\n"
   ]
  },
  {
   "cell_type": "markdown",
   "metadata": {},
   "source": [
    "Below code is to train and save the model. We will just load the result this time."
   ]
  },
  {
   "cell_type": "code",
   "execution_count": null,
   "metadata": {},
   "outputs": [],
   "source": [
    "# Train the model\r\n",
    "import os\r\n",
    "\r\n",
    "# Location of saved model\r\n",
    "file_normal = os.path.join(os.getcwd(), 'normal.pt')\r\n",
    "\r\n",
    "# All the data we are saving\r\n",
    "checkpoint={\r\n",
    "            # Saving the number of epochs the models was trained for\r\n",
    "            'epoch': None,\r\n",
    "            # Saving the models parameters which will allow us to recreate the trained model\r\n",
    "            'model_state_dict': None,\r\n",
    "            # Saving the optimizers parameters\r\n",
    "            'optimizer_state_dict': None,\r\n",
    "            # Saving the loss on the training dataset for the last batch of the last epoch\r\n",
    "            'loss': None,\r\n",
    "            # Saving the cost on the training dataset for each epoch\r\n",
    "            'cost': [],\r\n",
    "            # Saving the accuracy for the testing dataset for each epoch\r\n",
    "            'accuracy': []}\r\n",
    "\r\n",
    "# number of epoch\r\n",
    "n_epochs = 5\r\n",
    "\r\n",
    "# Size of the testing dataset\r\n",
    "N_test = len(validation_dataset)\r\n",
    "\r\n",
    "# Training for the number of epochs we want\r\n",
    "for epoch in range(n_epochs):\r\n",
    "    cost = 0\r\n",
    "    for x, y in train_loader:\r\n",
    "        # Resets the calculated gradient value, this must be done each time as it accumulates if we do not reset\r\n",
    "        optimizer.zero_grad()\r\n",
    "        # Makes a prediction on the image\r\n",
    "        z = model(x)\r\n",
    "        # Calculate the loss between the prediction and actual class\r\n",
    "        loss = criterion(z, y)\r\n",
    "        # Calculates the gradient value with respect to each weight and bias\r\n",
    "        loss.backward()\r\n",
    "        # Updates the weight and bias according to calculated gradient value\r\n",
    "        optimizer.step()\r\n",
    "      \r\n",
    "        # Saves the number of epochs we trained for  \r\n",
    "        checkpoint['epochs'] = n_epochs\r\n",
    "        # Saves the models parameters\r\n",
    "        checkpoint['model_state_dict'] = model.state_dict()\r\n",
    "        # Saves the optimizers paramters\r\n",
    "        checkpoint['optimizer_state_dict'] = optimizer.state_dict()\r\n",
    "        # Saves the loss for the last batch so ultimately this will be the loss for the last batch of the last epoch\r\n",
    "        checkpoint['loss'] = loss\r\n",
    "        # Accumulates the loss\r\n",
    "        cost += loss.item()\r\n",
    "        \r\n",
    "     \r\n",
    "    # Counter for the correct number of predictions        \r\n",
    "    correct = 0\r\n",
    "        \r\n",
    "    # For each batch in the validation dataset\r\n",
    "    for x_test, y_test in validation_loader:\r\n",
    "        # Make a prediction\r\n",
    "        z = model(x_test)\r\n",
    "        # Get the class that has the maximum value\r\n",
    "        _, yhat = torch.max(z.data, 1)\r\n",
    "        # Counts the number of correct predictions made\r\n",
    "        correct += (yhat == y_test).sum().item()\r\n",
    " \r\n",
    "    accuracy = correct / N_test\r\n",
    "    print(accuracy)\r\n",
    "    # Appends the cost of the epoch to a list\r\n",
    "    checkpoint['cost'].append(cost) \r\n",
    "    # Appends the accuracy of the epoch to a list\r\n",
    "    checkpoint['accuracy'].append(accuracy)\r\n",
    "    # Saves the data in checkpoint to the file location\r\n",
    "    torch.save(checkpoint, file_normal) "
   ]
  },
  {
   "cell_type": "markdown",
   "metadata": {},
   "source": [
    "# Analyze the Results"
   ]
  },
  {
   "cell_type": "code",
   "execution_count": 16,
   "metadata": {},
   "outputs": [],
   "source": [
    "# Load the saved model\r\n",
    "checkpoint_normal = torch.load(os.path.join(os.getcwd(), 'normal.pt'))"
   ]
  },
  {
   "cell_type": "code",
   "execution_count": 17,
   "metadata": {},
   "outputs": [
    {
     "data": {
      "image/png": "[encoded data removed]",
      "text/plain": [
       "<Figure size 432x288 with 2 Axes>"
      ]
     },
     "metadata": {
      "needs_background": "light"
     },
     "output_type": "display_data"
    }
   ],
   "source": [
    "# Plot accuracy and cost\r\n",
    "plot_cost_accuracy(checkpoint_normal)"
   ]
  },
  {
   "cell_type": "code",
   "execution_count": 18,
   "metadata": {},
   "outputs": [
    {
     "data": {
      "image/png": "[encoded data removed]",
      "text/plain": [
       "<Figure size 432x288 with 1 Axes>"
      ]
     },
     "metadata": {
      "needs_background": "light"
     },
     "output_type": "display_data"
    },
    {
     "data": {
      "image/png": "[encoded data removed]",
      "text/plain": [
       "<Figure size 432x288 with 1 Axes>"
      ]
     },
     "metadata": {
      "needs_background": "light"
     },
     "output_type": "display_data"
    },
    {
     "data": {
      "image/png": "[encoded data removed]",
      "text/plain": [
       "<Figure size 432x288 with 1 Axes>"
      ]
     },
     "metadata": {
      "needs_background": "light"
     },
     "output_type": "display_data"
    },
    {
     "data": {
      "image/png": "[encoded data removed]",
      "text/plain": [
       "<Figure size 432x288 with 1 Axes>"
      ]
     },
     "metadata": {
      "needs_background": "light"
     },
     "output_type": "display_data"
    },
    {
     "data": {
      "image/png": "[encoded data removed]",
      "text/plain": [
       "<Figure size 432x288 with 1 Axes>"
      ]
     },
     "metadata": {
      "needs_background": "light"
     },
     "output_type": "display_data"
    }
   ],
   "source": [
    "# Misclassified samples\r\n",
    "model.load_state_dict(checkpoint_normal['model_state_dict'])\r\n",
    "\r\n",
    "# set the model to evaluation mode\r\n",
    "model.eval()\r\n",
    "\r\n",
    "# plot\r\n",
    "plot_mis_classified(model, validation_dataset)"
   ]
  },
  {
   "cell_type": "markdown",
   "metadata": {},
   "source": [
    "# Rotated training Data"
   ]
  },
  {
   "cell_type": "code",
   "execution_count": 20,
   "metadata": {},
   "outputs": [],
   "source": [
    "# Create the model\r\n",
    "model_r = CNN(out_1=16, out_2=32)\r\n",
    "\r\n",
    "# criterion\r\n",
    "criterion = nn.CrossEntropyLoss()\r\n",
    "\r\n",
    "# learning rate\r\n",
    "learning_rate = 0.1\r\n",
    "\r\n",
    "# optimizer\r\n",
    "optimizer = torch.optim.SGD(model_r.parameters(), lr = learning_rate)\r\n",
    "\r\n",
    "# Data loader\r\n",
    "train_loader = torch.utils.data.DataLoader(dataset=train_dataset_rotate, batch_size=100)\r\n",
    "\r\n",
    "# validation loader\r\n",
    "validation_loader = torch.utils.data.DataLoader(dataset=validation_dataset, batch_size=5000)"
   ]
  },
  {
   "cell_type": "markdown",
   "metadata": {},
   "source": [
    "The below cell is for training the model. We will not run it this time."
   ]
  },
  {
   "cell_type": "code",
   "execution_count": null,
   "metadata": {},
   "outputs": [],
   "source": [
    "# Train the model\r\n",
    "# Location to save the data\r\n",
    "file_rotated = os.path.join(os.getcwd(), 'rotated_data.pt')\r\n",
    "\r\n",
    "# All the data we are saving\r\n",
    "checkpoint={\r\n",
    "            # Saving the number of epochs the models was trained for\r\n",
    "            'epoch': None,\r\n",
    "            # Saving the models parameters which will allow us to recreate the trained model\r\n",
    "            'model_state_dict': None,\r\n",
    "            # Saving the optimizers parameters\r\n",
    "            'optimizer_state_dict': None,\r\n",
    "            # Saving the loss on the training dataset for the last batch of the last epoch\r\n",
    "            'loss': None,\r\n",
    "            # Saving the cost on the training dataset for each epoch\r\n",
    "            'cost': [],\r\n",
    "            # Saving the accuracy for the testing dataset for each epoch\r\n",
    "            'accuracy': []}\r\n",
    "            \r\n",
    "# Number of epochs to train model\r\n",
    "n_epochs = 5\r\n",
    "\r\n",
    "# size of the testing dataset\r\n",
    "N_test = len(validation_dataset)\r\n",
    "\r\n",
    "# Training for the number of epochs we want\r\n",
    "for epoch in range(n_epochs):\r\n",
    "    cost = 0\r\n",
    "    # For each batch in the training dataset\r\n",
    "    for x, y in train_loader:\r\n",
    "        # Resets the calculated gradient value, this must be done each time as it accumulates if we do not reset\r\n",
    "        optimizer.zero_grad()\r\n",
    "        # Makes a prediction on the image\r\n",
    "        z = model_r(x)\r\n",
    "        # Calculate the loss between the prediction and actual class\r\n",
    "        loss = criterion(z, y)\r\n",
    "        # Calculates the gradient value with respect to each weight and bias\r\n",
    "        loss.backward()\r\n",
    "        # Updates the weight and bias according to calculated gradient value\r\n",
    "        optimizer.step()\r\n",
    "      \r\n",
    "        # Saves the number of epochs we trained for  \r\n",
    "        checkpoint['epochs'] = n_epochs\r\n",
    "        # Saves the models parameters\r\n",
    "        checkpoint['model_state_dict'] = model.state_dict()\r\n",
    "        # Saves the optimizers paramters\r\n",
    "        checkpoint['optimizer_state_dict'] = optimizer.state_dict()\r\n",
    "        # Saves the loss for the last batch so ultimately this will be the loss for the last batch of the last epoch\r\n",
    "        checkpoint['loss'] = loss\r\n",
    "        # Accumulates the loss\r\n",
    "        cost+=loss.item()\r\n",
    "        \r\n",
    "     \r\n",
    "    # Counter for the correct number of predictions        \r\n",
    "    correct = 0\r\n",
    "        \r\n",
    "    # For each batch in the validation dataset\r\n",
    "    for x_test, y_test in validation_loader:\r\n",
    "        # Make a prediction\r\n",
    "        z = model_r(x_test)\r\n",
    "        # Get the class that has the maximum value\r\n",
    "        _, yhat = torch.max(z.data, 1)\r\n",
    "        # Counts the number of correct predictions made\r\n",
    "        correct += (yhat == y_test).sum().item()\r\n",
    " \r\n",
    "    accuracy = correct / N_test\r\n",
    "    print(accuracy)\r\n",
    "    # Appends the cost of the epoch to a list\r\n",
    "    checkpoint['cost'].append(cost) \r\n",
    "    # Appends the accuracy of the epoch to a list\r\n",
    "    checkpoint['accuracy'].append(accuracy)\r\n",
    "    # Saves the data in checkpoint to the file location\r\n",
    "    torch.save(checkpoint, file_rotated) "
   ]
  },
  {
   "cell_type": "markdown",
   "metadata": {},
   "source": [
    "## Analyze the result"
   ]
  },
  {
   "cell_type": "code",
   "execution_count": 21,
   "metadata": {},
   "outputs": [],
   "source": [
    "checkcpoint_rotated = torch.load(os.path.join(os.getcwd(), 'rotated_data.pt'))"
   ]
  },
  {
   "cell_type": "code",
   "execution_count": 22,
   "metadata": {},
   "outputs": [
    {
     "data": {
      "image/png": "[encoded data removed]",
      "text/plain": [
       "<Figure size 432x288 with 2 Axes>"
      ]
     },
     "metadata": {
      "needs_background": "light"
     },
     "output_type": "display_data"
    }
   ],
   "source": [
    "# Plot the accuracy\r\n",
    "plot_cost_accuracy(checkcpoint_rotated)"
   ]
  },
  {
   "cell_type": "code",
   "execution_count": 23,
   "metadata": {},
   "outputs": [
    {
     "data": {
      "image/png": "[encoded data removed]",
      "text/plain": [
       "<Figure size 432x288 with 1 Axes>"
      ]
     },
     "metadata": {
      "needs_background": "light"
     },
     "output_type": "display_data"
    },
    {
     "data": {
      "image/png": "[encoded data removed]",
      "text/plain": [
       "<Figure size 432x288 with 1 Axes>"
      ]
     },
     "metadata": {
      "needs_background": "light"
     },
     "output_type": "display_data"
    },
    {
     "data": {
      "image/png": "[encoded data removed]",
      "text/plain": [
       "<Figure size 432x288 with 1 Axes>"
      ]
     },
     "metadata": {
      "needs_background": "light"
     },
     "output_type": "display_data"
    },
    {
     "data": {
      "image/png": "[encoded data removed]",
      "text/plain": [
       "<Figure size 432x288 with 1 Axes>"
      ]
     },
     "metadata": {
      "needs_background": "light"
     },
     "output_type": "display_data"
    },
    {
     "data": {
      "image/png": "[encoded data removed]",
      "text/plain": [
       "<Figure size 432x288 with 1 Axes>"
      ]
     },
     "metadata": {
      "needs_background": "light"
     },
     "output_type": "display_data"
    }
   ],
   "source": [
    "# Five misclassified samples\r\n",
    "model_r.load_state_dict(checkcpoint_rotated['model_state_dict'])\r\n",
    "\r\n",
    "# Setting the model to evaluation mode\r\n",
    "model.eval()\r\n",
    "\r\n",
    "# Plot\r\n",
    "plot_mis_classified(model_r, validation_dataset)"
   ]
  },
  {
   "cell_type": "markdown",
   "metadata": {},
   "source": [
    "# Summary"
   ]
  },
  {
   "cell_type": "markdown",
   "metadata": {},
   "source": [
    "As you can see in the two Cost and Accuracy vs Epoch Graph the model trained on rotated data performs much better on the rotated validation data, 79% vs 95%+. By creating and training on rotated data allows the model to learn from unique data and have increased exposure to real life situations because data is not always perfect or rotated correctly."
   ]
  },
  {
   "cell_type": "markdown",
   "metadata": {},
   "source": []
  }
 ],
 "metadata": {
  "interpreter": {
   "hash": "c0f70214c0dd213f07f54ee5d6e0ea644bdbba35113c9bfe8aaa0d1db03ad5dd"
  },
  "kernelspec": {
   "display_name": "Python 3.8.8 64-bit ('base': conda)",
   "name": "python3"
  },
  "language_info": {
   "codemirror_mode": {
    "name": "ipython",
    "version": 3
   },
   "file_extension": ".py",
   "mimetype": "text/x-python",
   "name": "python",
   "nbconvert_exporter": "python",
   "pygments_lexer": "ipython3",
   "version": "3.8.8"
  },
  "orig_nbformat": 4
 },
 "nbformat": 4,
 "nbformat_minor": 2
}